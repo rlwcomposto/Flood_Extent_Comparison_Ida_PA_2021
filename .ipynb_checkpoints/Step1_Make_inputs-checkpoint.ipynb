{
 "cells": [
  {
   "cell_type": "markdown",
   "id": "9b1b962c",
   "metadata": {},
   "source": [
    "# Part II: Process Data & Run RF Model "
   ]
  },
  {
   "cell_type": "markdown",
   "id": "4bbf487b-43e6-4362-8861-a7a0edbbe65f",
   "metadata": {},
   "source": [
    "***"
   ]
  },
  {
   "cell_type": "markdown",
   "id": "098a19c6",
   "metadata": {},
   "source": [
    "## Step 0: Get S2, DEM & Other Data"
   ]
  },
  {
   "cell_type": "markdown",
   "id": "5a941e99-4d2d-4342-bb6f-29b128beaa55",
   "metadata": {},
   "source": [
    "### 0.1 Use GEE to get S2 Data"
   ]
  },
  {
   "cell_type": "markdown",
   "id": "203b967a-3acd-4f35-bf2e-ba7915d8ea02",
   "metadata": {},
   "source": [
    "In GEE run code to get Sentinel-2 imagery. In GEE, filter by date, roi, filter out clouds & resample bands to 10m bands.\n",
    "\n",
    "Link to GEE Code: \n",
    "https://code.earthengine.google.com/3dbbc00a54cd539224bd712aa1fc3f2c"
   ]
  },
  {
   "cell_type": "markdown",
   "id": "732cb312-b818-4e09-aaac-de24359a1a4e",
   "metadata": {},
   "source": [
    "### 0.2 Use Google Drive to get S2 & Other data"
   ]
  },
  {
   "cell_type": "markdown",
   "id": "3c0d12a2-00c0-4ace-a7fe-3a05a2e3c1e3",
   "metadata": {},
   "source": [
    "After GEE code is run, S2 imagery will be exported into Google Drive. \n",
    "\n",
    "Link to project data folder: https://drive.google.com/drive/folders/1O_ZBg3JLkzNLwHJUhyCU2UZ5-rb6ZJJW?usp=share_link\n",
    "\n",
    "In folder:\n",
    "\n",
    "- S2_testint_v3.tif (Sentinel-2 data for roi)\n",
    "- dem_all_10m.tif (dem data for roi)\n",
    "- if_NHD_v1.tif (National Hydrography dataset)\n",
    "- ida_train_test_v1.1.shp (training data)\n",
    "- Philadelphia.shp (roi)"
   ]
  },
  {
   "cell_type": "markdown",
   "id": "2dc17ea0-71a1-486f-bef9-4fa3fa1ed7b9",
   "metadata": {},
   "source": [
    "### 0.3 Pre-processing DEM Data sets"
   ]
  },
  {
   "cell_type": "markdown",
   "id": "21148720-2d47-4d00-b2ca-2e5ff5e334c9",
   "metadata": {},
   "source": [
    "DEM data was collected at 3ft resolution in April 2022 for the roi.\n",
    "\n",
    "Source:\n",
    "\n",
    "The data was pre-processed in QGIS with the following steps:\n",
    "- Download dem Data\n",
    "- In QGIS - Use **Reproject** to align w/ S2 projection (ensure map projection isn’t end goal, so when layer enters it is not the originally desired, Warp)\n",
    "- **Clip** to roi \n",
    "- Calculate **Shaded Relief, Hillshade, Slope**\n",
    "- **Merge** bands (check \"add each layer as seperate band\")\n",
    "- Resample to 10m res (**Export to**, change resolution, change pixel size to exact same as S2, find pixel size in information, 8.983152841195214829e-05 with width 3614; 3018\n"
   ]
  },
  {
   "cell_type": "markdown",
   "id": "b8f5023a-771d-4e76-8782-3c876f36d61e",
   "metadata": {},
   "source": [
    "### 0.4 Pre-processing Misc.Data sets"
   ]
  },
  {
   "cell_type": "markdown",
   "id": "8d8b1eb4-1881-4c5c-b4d0-11445cfe776b",
   "metadata": {},
   "source": [
    "Other datasets for the roi can help the ML RF model detect where flooding occured. One such dataset is the National Hydogrphay dataset.\n",
    "\n",
    "\n",
    "Turning shapefiles of data into rasters for use\n",
    "- Ensure projection is 4326\n",
    "- Take original layer & **Dissolve** so turns into one feature\n",
    "- Add a column “If_xyz” and set to 2\n",
    "- Add a column to roi shapefile “If_xyz” and set to 1\n",
    "- **Union** the layers\n",
    "- **Rasterize** to 10m (set geoprocessing unit to S2 pixel size)\n",
    "- **Align** w/ S2\n",
    "- Export and save"
   ]
  },
  {
   "cell_type": "markdown",
   "id": "08c903ff-23bf-4a17-9c44-0640abe485ef",
   "metadata": {},
   "source": [
    "***"
   ]
  },
  {
   "cell_type": "markdown",
   "id": "d5c2adb7-700c-41fd-abf2-26a78d80a21e",
   "metadata": {
    "tags": []
   },
   "source": [
    "## Step 1: Make RF Inputs"
   ]
  },
  {
   "cell_type": "markdown",
   "id": "7d19b91e-755d-4aa5-9884-0f37d3c576ed",
   "metadata": {},
   "source": [
    "### 1.1 Python Set-up"
   ]
  },
  {
   "cell_type": "markdown",
   "id": "41bcd6c1-25d2-4b7a-a772-d728c1fbb7c7",
   "metadata": {},
   "source": [
    "If having trouble importing, check Anaconda, if not in there then open Anaconda Prompt (go to where the app is), then type --> conda install -c conda-forge PACKAGENAME"
   ]
  },
  {
   "cell_type": "code",
   "execution_count": 28,
   "id": "e54bbc2d",
   "metadata": {},
   "outputs": [],
   "source": [
    "# Import packages\n",
    "import os\n",
    "import rasterio as rio\n",
    "from rasterio.plot import show\n",
    "from rasterio.enums import Resampling # resample data\n",
    "import rioxarray as rxr\n",
    "import geopandas as gpd\n",
    "import numpy as np\n",
    "import pandas as pd\n",
    "import folium\n",
    "import matplotlib.pyplot as plt\n",
    "\n",
    "\n",
    "from itertools import product # for 3x3 windows\n",
    "from rasterio.transform import Affine # for 3x3 windows\n",
    "\n",
    "import geopandas as gpd # rf, read in training data shp\n",
    "from rasterio.mask import mask # rf"
   ]
  },
  {
   "cell_type": "code",
   "execution_count": 29,
   "id": "4f7330a0-af8a-4332-9fcd-dc763ea93c82",
   "metadata": {},
   "outputs": [],
   "source": [
    "from rasterio.enums import Resampling"
   ]
  },
  {
   "cell_type": "code",
   "execution_count": 30,
   "id": "ba7e0dbc-3cb7-4bec-8dae-39cd86e97290",
   "metadata": {
    "scrolled": true
   },
   "outputs": [
    {
     "data": {
      "text/plain": [
       "'C:\\\\Users\\\\rcompos\\\\OneDrive - North Carolina State University\\\\Documents\\\\Research\\\\Ida_Scripts'"
      ]
     },
     "execution_count": 30,
     "metadata": {},
     "output_type": "execute_result"
    }
   ],
   "source": [
    "# Set wd\n",
    "wd_path = \"C:\\\\Users\\\\rcompos\\\\OneDrive - North Carolina State University\\\\Documents\\\\Research\\\\Ida_Scripts\"\n",
    "os.chdir(wd_path)\n",
    "os.getcwd() # get wd\n",
    "#os.listdir() # get available data"
   ]
  },
  {
   "cell_type": "code",
   "execution_count": 31,
   "id": "3700ceb0",
   "metadata": {},
   "outputs": [],
   "source": [
    "# Paths for data\n",
    "#s2_path = \"./Sentinel_data/S2_clip_resamp_09212021.tif\" # Sentinel2_09012021.tif\n",
    "\n",
    "#s2_path = \"./Sentinel_data/S2_09022021_clip_v2.tif\"\n",
    "s2_path = \"./Sentinel_data/S2_testing_v3.tif\"\n",
    "\n",
    "#for layer below, dem is 2, slope is 4, hill 1, relief 3\n",
    "#dem_path = \"./Philadelphia_dem_3ft_2022/DEM_Test_Methods/dem_all_10m.tif\"\n",
    "dem_path = \"./Philadelphia_dem_3ft_2022/testing_dem_10m.tif\"\n",
    "train_path = \"./Ida_tweets/ida_train_test_v1.shp\"\n",
    "\n",
    "# Additional inputs\n",
    "nhd_path = \"./Misc_Data/If_NHD_v1.tif\""
   ]
  },
  {
   "cell_type": "code",
   "execution_count": 32,
   "id": "1ce3ea2c-4990-4384-b6e8-2ad0216f0e7f",
   "metadata": {},
   "outputs": [],
   "source": [
    "# Set paths for data created\n",
    "tot_path = \"./Flood_outputs/practice_tot2.tif\" # path for new tiff file\n",
    "pred_path = \"./Flood_outputs/prediction_v1.tif\" # path for predicted flooding"
   ]
  },
  {
   "cell_type": "markdown",
   "id": "5ba3b6d7-8575-498a-9daf-6e34edb24697",
   "metadata": {},
   "source": [
    "### 1.2 Read in DEM"
   ]
  },
  {
   "cell_type": "code",
   "execution_count": 33,
   "id": "842e1a7c-1fca-4c4f-b406-ee5038f65cd6",
   "metadata": {},
   "outputs": [
    {
     "data": {
      "text/plain": [
       "255.0"
      ]
     },
     "execution_count": 33,
     "metadata": {},
     "output_type": "execute_result"
    }
   ],
   "source": [
    "dem_test = rio.open(dem_path)\n",
    "dem_test.meta\n",
    "dem_test.read(1)\n",
    "np.max(dem_test.read(1))"
   ]
  },
  {
   "cell_type": "code",
   "execution_count": 34,
   "id": "97ce04e3-d6e6-45e6-bf98-07eacaa56bfd",
   "metadata": {},
   "outputs": [
    {
     "name": "stdout",
     "output_type": "stream",
     "text": [
      "3\n"
     ]
    }
   ],
   "source": [
    "dem_tot = rio.open(dem_path) # read in data\n",
    "print(dem_tot.count)\n",
    "\n",
    "\n",
    "dem = dem_tot.read(2)\n",
    "#slope = dem_tot.read(4)\n",
    "hill = dem_tot.read(1)\n",
    "relief = dem_tot.read(3)\n",
    "#dem_tot.close()\n",
    "\n",
    "# Explore\n",
    "#dem_tot.meta\n",
    "\n",
    "# dictionary of all bands\n",
    "dem_dict = {'dem':dem,'hill':hill,'relief':relief} #'slope':slope,"
   ]
  },
  {
   "cell_type": "code",
   "execution_count": 35,
   "id": "34d595ba-3c47-4abc-ab63-e471d42f1df5",
   "metadata": {
    "tags": []
   },
   "outputs": [],
   "source": [
    "#print(dem)\n",
    "#print(np.max(dem))"
   ]
  },
  {
   "cell_type": "markdown",
   "id": "4bf567cc-4302-4d7f-a179-5db436c42a17",
   "metadata": {
    "tags": []
   },
   "source": [
    "### 1.3 Read in Misc. Data"
   ]
  },
  {
   "cell_type": "code",
   "execution_count": 36,
   "id": "a9bccc3a-59cf-453b-870b-87e7530383d3",
   "metadata": {
    "tags": []
   },
   "outputs": [],
   "source": [
    "nhd_ = rio.open(nhd_path)\n",
    "nhd = nhd_.read(1)\n",
    "#print(nhd)\n",
    "np.max(nhd)\n",
    "np.min(nhd)\n",
    "\n",
    "interum = nhd.astype('float')\n",
    "interum[interum==255]='nan'\n",
    "nhd = interum\n",
    "\n",
    "#show(nhd)"
   ]
  },
  {
   "cell_type": "code",
   "execution_count": 37,
   "id": "c665b571-2a53-45f6-9018-41b1d5862e65",
   "metadata": {},
   "outputs": [],
   "source": [
    "# Display shapefile\n",
    "#nhd_shp_ =  \"./Misc_Data/If_NHD.shp\"\n",
    "#nhd_shp = gpd.read_file(nhd_shp_) \n",
    "#nhd_shp.plot(column = \"if_NHD\")"
   ]
  },
  {
   "cell_type": "code",
   "execution_count": 38,
   "id": "f6704a76-556b-4371-aa64-c17b0b95fccb",
   "metadata": {},
   "outputs": [],
   "source": [
    "misc_dict = {'nhd':nhd}"
   ]
  },
  {
   "cell_type": "markdown",
   "id": "7a4e4893-a96f-42a4-a32f-b6e509221769",
   "metadata": {},
   "source": [
    "### 1.2 Read in S2"
   ]
  },
  {
   "cell_type": "code",
   "execution_count": 39,
   "id": "4c0b8720-a117-43b4-b5d5-c2cc594d8678",
   "metadata": {},
   "outputs": [
    {
     "data": {
      "text/plain": [
       "(3016, 3612)"
      ]
     },
     "execution_count": 39,
     "metadata": {},
     "output_type": "execute_result"
    }
   ],
   "source": [
    "# Save needed bands for calculations\n",
    "s2 = rio.open(s2_path) # read in data\n",
    "one = s2.read(1) # coastal aerosol\n",
    "blue = s2.read(2)\n",
    "green = s2.read(3)\n",
    "red = s2.read(4)\n",
    "five = s2.read(5) # vegetation red edge\n",
    "six = s2.read(6) # vegetation red edge\n",
    "sev = s2.read(7) # vegetation red edge\n",
    "nir = s2.read(8)\n",
    "nnir = s2.read(9) # narrow nir\n",
    "vap = s2.read(10) # water vapour\n",
    "swir1 = s2.read(11) # SWIR1 is band 11, SWIR2 is band 12\n",
    "swir2 = s2.read(12)\n",
    "swir3 = s2.read(13)\n",
    "#mir = ???\n",
    "s2.close()\n",
    "\n",
    "# Import data in one line\n",
    "#s2 = rio.open(s2_path)\n",
    "#arr = s2.read([i for i in range(1, 14)]) # stops one short\n",
    "\n",
    "# Explore\n",
    "#s2.meta\n",
    "#show(s2,2)\n",
    "s2.shape"
   ]
  },
  {
   "cell_type": "code",
   "execution_count": 40,
   "id": "7d9b87e2-76e3-4643-a78b-cfc6d68387ef",
   "metadata": {},
   "outputs": [
    {
     "name": "stdout",
     "output_type": "stream",
     "text": [
      "13\n",
      "[[nan nan nan ... nan nan nan]\n",
      " [nan nan nan ... nan nan nan]\n",
      " [nan nan nan ... nan nan nan]\n",
      " ...\n",
      " [nan nan nan ... nan nan nan]\n",
      " [nan nan nan ... nan nan nan]\n",
      " [nan nan nan ... nan nan nan]]\n"
     ]
    }
   ],
   "source": [
    "# dictionary of all bands\n",
    "bands_dict = {'one':one,'blue':blue,'green':green,'red':red,'five':five,'six':six,\n",
    "              'sev':sev,'nir':nir,'nnir':nnir,'vap':vap,'swir1':swir1,'swir2':swir2,'swir3':swir3}      \n",
    "\n",
    "print(len(bands_dict)) # test, should be 13\n",
    "\n",
    "# for loop to assign 'nan' to all 0 values\n",
    "for key in bands_dict:\n",
    "    interum = bands_dict[key].astype('float')\n",
    "    interum[interum==0]='nan'\n",
    "    bands_dict[key] = interum\n",
    "\n",
    "print(bands_dict['green']) # test, should have desirednodata value"
   ]
  },
  {
   "cell_type": "markdown",
   "id": "591971ad-11dd-46ea-98ca-a5709091595d",
   "metadata": {},
   "source": [
    "### 1.3 Create S2 Indices"
   ]
  },
  {
   "cell_type": "markdown",
   "id": "0101727a-01e2-46e6-9719-77244521c930",
   "metadata": {
    "tags": []
   },
   "source": [
    "#### Normalized Difference Vegetation Index (NDVI)\n",
    "Formula: NDVI = (NIR-Red)/(NIR+Red)\n",
    "\n",
    "About: Calculates vegetation greenness, ranges between -1 (bare ground, rock) to +1 (very green).\n",
    "\n",
    "Uses planet code - https://developers.planet.com/docs/planetschool/calculate-an-ndvi-in-python/\n",
    "And github - https://github.com/parulnith/Satellite-Imagery-Analysis-with-Python/blob/master/Calculating%20NDVI%20for%20our%20Area%20of%20Interest.ipynb"
   ]
  },
  {
   "cell_type": "code",
   "execution_count": 41,
   "id": "b5f7993c-6e2a-4944-ab83-7580d2a0c20a",
   "metadata": {},
   "outputs": [
    {
     "name": "stdout",
     "output_type": "stream",
     "text": [
      "pass\n"
     ]
    }
   ],
   "source": [
    "# Calculate NDVI\n",
    "# Planet recommends multiplying bands by coefficients made from TOA\n",
    "\n",
    "# Allow division by zero\n",
    "np.seterr(divide='ignore', invalid='ignore')\n",
    "\n",
    "# Run Formula \n",
    "ndvi = (nir.astype(float) - red.astype(float)) / (nir + red)\n",
    "\n",
    "# Test\n",
    "if np.nanmax(ndvi)<1 and np.nanmin(ndvi)>-1:\n",
    "    print('pass')\n",
    "else:\n",
    "    print('something is wrong')\n",
    "    print(np.nanmax(evi))\n",
    "    print(np.nanmin(evi))\n",
    "    \n",
    "# Explore\n",
    "#ndvi # print\n",
    "#show(source = ndvi, ax = None) # display"
   ]
  },
  {
   "cell_type": "markdown",
   "id": "bff57876-d65a-49ff-8ee2-8c06556d8550",
   "metadata": {},
   "source": [
    "#### Enhanced Vegetation Index (EVI)\n",
    "Formula: 2.5 * (NIR - RED) / ((NIR + 6* RED - 7.5* BLUE) + 1\n",
    "\n",
    "About: Considered the advanced ndvi, should be between 1 (green) and 0 (not healthy veg) (BUT landsat says it can be between -10k and 10k). Improved bc incorporate more bands that decrease background + atmospheric noise, + saturation. \n",
    "\n",
    "\n",
    "Sources: https://www.usgs.gov/landsat-missions/landsat-enhanced-vegetation-index;\n",
    "https://custom-scripts.sentinel-hub.com/custom-scripts/sentinel-2/evi/#; https://hub4everybody.com/enhanced-vegetation-index-evi/?hs-panel=&hs-x=1883916.5156348734&hs-y=6303928.185111765&hs-z=11&hs-lang=en&hs-visible-layers=OpenStreetMap%3BEVI%202020_04_22%3BEVI%202020_05_22%3Brostenice_2020&map-swipe=disabled&app=default\n",
    "\n",
    "\n",
    "EVI = G * ((NIR - R) / (NIR + C1 * R – C2 * B + L))\n",
    "In Landsat 4-7, EVI = 2.5 * ((Band 4 – Band 3) / (Band 4 + 6 * Band 3 – 7.5 * Band 1 + 1))."
   ]
  },
  {
   "cell_type": "code",
   "execution_count": 42,
   "id": "b1e438e9-b2e1-429e-aaec-4f2a5df133e9",
   "metadata": {},
   "outputs": [
    {
     "name": "stdout",
     "output_type": "stream",
     "text": [
      "something is wrong\n",
      "296.9512195121796\n",
      "-135.8333333333148\n",
      "[[0. 0. 0. ... 0. 0. 0.]\n",
      " [0. 0. 0. ... 0. 0. 0.]\n",
      " [0. 0. 0. ... 0. 0. 0.]\n",
      " ...\n",
      " [0. 0. 0. ... 0. 0. 0.]\n",
      " [0. 0. 0. ... 0. 0. 0.]\n",
      " [0. 0. 0. ... 0. 0. 0.]]\n"
     ]
    }
   ],
   "source": [
    "# Calculate EVI\n",
    "#let EVI = 2.5 * (B08 - B04) / ((B08 + 6.0 * B04 - 7.5 * B02) + 1.0);\n",
    "#EVI (Sentinel 2) = 2.5 * ((B8 – B4) / (B8 + 6 * B4 – 7.5 * B2 + 1)).\n",
    "#Landsat 4-7, EVI = 2.5 * ((Band 4 – Band 3) / (Band 4 + 6 * Band 3 – 7.5 * Band 1 + 1)).\n",
    "\n",
    "# Run Formula \n",
    "evi = 2.5 * (nir/10000 - red/10000) / (nir/10000 + 6.0 * red/10000 - 7.5 * blue/10000 + 1.0)\n",
    "\n",
    "# Test\n",
    "if np.nanmax(evi)<1 and np.nanmin(evi)>0:\n",
    "    print('pass')\n",
    "else:\n",
    "    print('something is wrong')\n",
    "    print(np.nanmax(evi))\n",
    "    print(np.nanmin(evi))\n",
    "\n",
    "# Explore\n",
    "print(evi)\n",
    "#show(evi)"
   ]
  },
  {
   "cell_type": "markdown",
   "id": "e997f380-0d52-43bb-9f68-0f807cf3bfdb",
   "metadata": {},
   "source": [
    "#### Normalized Difference Water Index (NDWI)\n",
    "Formula: (Green-NIR)/(Green+NIR)\n",
    "\n",
    "About: between -1 and 1\n"
   ]
  },
  {
   "cell_type": "code",
   "execution_count": 43,
   "id": "2b5f3257-1d0b-4bdf-9599-8234f1f847b1",
   "metadata": {},
   "outputs": [
    {
     "name": "stdout",
     "output_type": "stream",
     "text": [
      "pass\n",
      "0.5695589842764651\n",
      "-0.9996680352586407\n",
      "[[nan nan nan ... nan nan nan]\n",
      " [nan nan nan ... nan nan nan]\n",
      " [nan nan nan ... nan nan nan]\n",
      " ...\n",
      " [nan nan nan ... nan nan nan]\n",
      " [nan nan nan ... nan nan nan]\n",
      " [nan nan nan ... nan nan nan]]\n"
     ]
    }
   ],
   "source": [
    "# Calculate NDWI\n",
    "#np.seterr(divide='ignore', invalid='ignore')\n",
    "\n",
    "# Run Formula \n",
    "ndwi = (green/10000 - nir/10000 / (green/10000 + nir/10000))\n",
    "\n",
    "# Test\n",
    "if np.nanmax(ndwi)<1 and np.nanmin(ndwi)>-1:\n",
    "    print('pass')\n",
    "    print(np.nanmax(ndwi))\n",
    "    print(np.nanmin(ndwi))\n",
    "else:\n",
    "    print('something is wrong')\n",
    "    print(np.nanmax(ndwi))\n",
    "    print(np.nanmin(ndwi))\n",
    "\n",
    "# Explore\n",
    "print(ndwi)\n",
    "#show(ndwi)"
   ]
  },
  {
   "cell_type": "markdown",
   "id": "4f7aac0a-cb07-4078-93ad-c8de5535a56b",
   "metadata": {},
   "source": [
    "#### Modified Normalized Difference Water Index (MNDWI)\n",
    "Formula: MNDWI = (Green-MIR)/(Green+MIR);\n",
    "\n",
    "There is no mir band in sentinel-2 imagery, use band 6 veg red edge or band 11 swir2? \n",
    "\n",
    "Sources: "
   ]
  },
  {
   "cell_type": "code",
   "execution_count": 44,
   "id": "60152341-cfb3-4e5f-939b-9ea09876f96f",
   "metadata": {},
   "outputs": [],
   "source": [
    "# Calculate MNDWI --> Is it possible without MIR?\n",
    "\n",
    "# Run Formula \n",
    "#mndwi = (green - six) / (green + six)\n",
    "\n",
    "# Explore\n",
    "#np.nanmax(mndwi)\n",
    "#show(mndwi)"
   ]
  },
  {
   "cell_type": "markdown",
   "id": "f877c0f5-b1d6-419a-9247-d4f4f1f0c8fe",
   "metadata": {},
   "source": [
    "#### Normalized Difference Moisture Index (NDMI)\n",
    "Formula: NDMI = (NIR-SWIR1)/(NIR+SWIR1)"
   ]
  },
  {
   "cell_type": "code",
   "execution_count": 45,
   "id": "46491f1a-c9c5-4ccb-b3a4-dc3994751d40",
   "metadata": {},
   "outputs": [
    {
     "name": "stdout",
     "output_type": "stream",
     "text": [
      "pass\n"
     ]
    }
   ],
   "source": [
    "# Calculate NDMI\n",
    "\n",
    "# Run Formula \n",
    "ndmi = (nir/10000 - swir1/10000) / (nir/10000 + swir1/10000)\n",
    "\n",
    "# Test\n",
    "if np.nanmax(ndmi)<1 and np.nanmin(ndmi)>=-1:\n",
    "    print('pass')\n",
    "else:\n",
    "    print('something is wrong')\n",
    "    print(np.nanmax(ndmi))\n",
    "    print(np.nanmin(ndmi))\n",
    "\n",
    "# Explore\n",
    "#print(ndmi)\n",
    "#show(ndmi)"
   ]
  },
  {
   "cell_type": "markdown",
   "id": "7a0ebade-85e1-4087-a318-df4524753a4b",
   "metadata": {
    "tags": []
   },
   "source": [
    "#### Automated Water Extraction Index (AWEI)\n",
    "Formulas: \n",
    "AWEInsh = 4(Green-SWIR1)-(.25NIR+2.75SWIR2) \n",
    "AWEIsh = blue + 2.5\n",
    "\n",
    "Description: \"AWEInsh is an index formulated to effectively eliminate nonwater pixels, including dark built surfaces in areas with urban background and AWEIsh is primarily formulated for further improvement of accuracy by removing shadow pixels that AWEInsh may not effectively eliminate. But in areas with highly reflective surfaces such as ice, snow and reflective roofs in urban areas, (aweish) may misclassify such surfaces as water.\"\n",
    "\n",
    "Source: https://www.sciencedirect.com/science/article/pii/S0034425713002873?ref=pdf_download&fr=RR-2&rr=79e31ae5efb2b0c9"
   ]
  },
  {
   "cell_type": "code",
   "execution_count": 46,
   "id": "356d2fd8-a266-4b4a-8bc6-98d93b1a4693",
   "metadata": {
    "tags": []
   },
   "outputs": [
    {
     "name": "stdout",
     "output_type": "stream",
     "text": [
      "something is wrong\n",
      "2.355225\n",
      "-1.285075\n"
     ]
    }
   ],
   "source": [
    "# Calculate AWEI\n",
    "\n",
    "# Run Formula \n",
    "awei = (4*(green/10000 - swir1/10000))-(.25*nir/10000 + 2.75*swir2/10000)\n",
    "\n",
    "# Test\n",
    "if np.nanmax(awei)<1 and np.nanmin(awei)>=-1:\n",
    "    print('pass')\n",
    "else:\n",
    "    print('something is wrong')\n",
    "    print(np.nanmax(awei))\n",
    "    print(np.nanmin(awei))\n",
    "\n",
    "\n",
    "# Explore\n",
    "#print(awei)\n",
    "#show(awei)"
   ]
  },
  {
   "cell_type": "markdown",
   "id": "9533ec10-d68d-4a63-9407-15466884f099",
   "metadata": {
    "tags": []
   },
   "source": [
    "### 1.4 Make 3x3 Windows\n",
    "Source for the 3x3 window: https://pygis.io/docs/e_raster_window_operations.html#create-kernel"
   ]
  },
  {
   "cell_type": "code",
   "execution_count": 47,
   "id": "99cb803f-3dad-461b-acf3-21c0eda88545",
   "metadata": {},
   "outputs": [],
   "source": [
    "def TbyTwindow(raster):\n",
    "    # Create a kernel to calculate the average\n",
    "    kernel = np.full((3, 3), 1/9)\n",
    "    # Get kernel shape\n",
    "    kernel_shape = kernel.shape\n",
    "    # Convert the kernel to a flattened array\n",
    "    kernel_array = np.ravel(kernel)\n",
    "    \n",
    "    # Create raster array with placeholder values in shape of raster\n",
    "    output_rio = np.full((raster.shape[0], raster.shape[1]), -9999) # originally -9999\n",
    "    # Set array data type\n",
    "    output_rio = output_rio.astype(np.float64)\n",
    "    \n",
    "    # Create raster array used to store window operation calculations for each pixel (excluding boundary pixels)\n",
    "    aggregate = np.full((raster.shape[0] - kernel_shape[0] + 1, raster.shape[1] - kernel_shape[1] + 1), 0)\n",
    "    # Set array data type\n",
    "    aggregate = aggregate.astype(np.float64)\n",
    "    \n",
    "    # Generate row index pairs for slicing\n",
    "    pairs_x = list(zip([None] + list(np.arange(1, kernel_shape[0])), list(np.arange(-kernel_shape[0] + 1, 0)) + [None]))\n",
    "    # Generate column index pairs for slicing\n",
    "    pairs_y = list(zip([None] + list(np.arange(1, kernel_shape[1])), list(np.arange(-kernel_shape[1] + 1, 0)) + [None]))\n",
    "    # Combine row and column index pairs together to get the extent for each vectorized sliding window\n",
    "    combos = list(product(pairs_x, pairs_y))\n",
    "    \n",
    "    # Create empty list to store each window operation calculation\n",
    "    sub_array_list = []\n",
    "\n",
    "    # Iterate through the combined pairs (which give extent of a sliding window)\n",
    "    for p in range(len(combos)):\n",
    "        # Get the sub-array via slicing and multiply all the values by corresponding value in kernel (based on location)\n",
    "        sub_array = raster[combos[p][0][0]:combos[p][0][1], combos[p][1][0]:combos[p][1][1]] * kernel_array[p]\n",
    "        # Add sub-array values to array storing window operation calculations\n",
    "        aggregate += sub_array\n",
    "        # Add sub-array to list\n",
    "        sub_array_list.append(sub_array)\n",
    "    \n",
    "    # Get average value\n",
    "    aggregate = aggregate * 2  \n",
    "    \n",
    "    # Get maximum value\n",
    "    window_maximum = np.maximum.reduce(sub_array_list)\n",
    "    \n",
    "    # Use kernel shape to determine the row and column index extent of the calculated array\n",
    "    n = int((kernel_shape[0] - 1) / 2)\n",
    "    m = int((kernel_shape[1] - 1) / 2)\n",
    "\n",
    "    # Replace placeholder values in the output array with the corresponding values (based on location) from the calculated array\n",
    "    output_rio[n:-n, m:-m] = aggregate\n",
    "    \n",
    "    result = output_rio\n",
    "    \n",
    "    return result"
   ]
  },
  {
   "cell_type": "code",
   "execution_count": 48,
   "id": "7ac947d2-fc34-43a3-8233-51cd3fd8cdb1",
   "metadata": {},
   "outputs": [],
   "source": [
    "#update dictionary to include derivatives\n",
    "indices = {'ndvi':ndvi,'evi':evi,'ndwi':ndwi,'ndmi':ndmi,'awei':awei}\n",
    "bands_dict.update(indices)\n",
    "bands_dict.update(dem_dict)\n",
    "\n",
    "window_dict = {} # intiate empty dictionary\n",
    "\n",
    "# Loop through bands & make 3x3 window \n",
    "for key in bands_dict:\n",
    "    raster = bands_dict[key] # get raster with key\n",
    "    name = key + \"_window\" #  make new name\n",
    "    data = TbyTwindow(raster) # run raster through 3x3 function\n",
    "    window_dict[name] = data # add item to dictionary\n",
    "    #print(window_dict)\n",
    " "
   ]
  },
  {
   "cell_type": "code",
   "execution_count": 49,
   "id": "b46b9d5c-e168-4b0d-b9a3-f166e0ab8811",
   "metadata": {},
   "outputs": [
    {
     "name": "stdout",
     "output_type": "stream",
     "text": [
      "5\n",
      "21\n",
      "21\n"
     ]
    }
   ],
   "source": [
    "# Tests\n",
    "print(len(indices)) # 5\n",
    "print(len(bands_dict)) # 13 bands + 5 indices + 4 dem = 22\n",
    "print(len(window_dict)) # 22\n",
    "#show(window_dict['awei_window'])"
   ]
  },
  {
   "cell_type": "code",
   "execution_count": 50,
   "id": "c4e1fef7-7e52-480a-b5b2-4145892a416a",
   "metadata": {},
   "outputs": [
    {
     "name": "stdout",
     "output_type": "stream",
     "text": [
      "43\n",
      "[[-9999. -9999. -9999. ... -9999. -9999. -9999.]\n",
      " [-9999.    nan    nan ...    nan    nan -9999.]\n",
      " [-9999.    nan    nan ...    nan    nan -9999.]\n",
      " ...\n",
      " [-9999.    nan    nan ...    nan    nan -9999.]\n",
      " [-9999.    nan    nan ...    nan    nan -9999.]\n",
      " [-9999. -9999. -9999. ... -9999. -9999. -9999.]]\n",
      "[[nan nan nan ... nan nan nan]\n",
      " [nan nan nan ... nan nan nan]\n",
      " [nan nan nan ... nan nan nan]\n",
      " ...\n",
      " [nan nan nan ... nan nan nan]\n",
      " [nan nan nan ... nan nan nan]\n",
      " [nan nan nan ... nan nan nan]]\n"
     ]
    }
   ],
   "source": [
    "# Combine dictionaries\n",
    "all_inputs_dict = bands_dict # rename dict\n",
    "all_inputs_dict.update(window_dict) # combine dictionaries\n",
    "all_inputs_dict.update(misc_dict)\n",
    "\n",
    "# Tests\n",
    "print(len(all_inputs_dict)) # 44\n",
    "print(all_inputs_dict['green_window']) # check 3x3 windows\n",
    "print(all_inputs_dict['green']) # check s2 bands\n",
    "#print(all_inputs_dict['dem_window']) # check dem \n",
    "#print(all_inputs_dict['dem']) # check dem \n",
    "#print(all_inputs_dict['nhd'])"
   ]
  },
  {
   "cell_type": "markdown",
   "id": "221fa9df-1839-4d6d-8f02-1bb37bbcdf6b",
   "metadata": {},
   "source": [
    "### 1.5 Merge all inputs"
   ]
  },
  {
   "cell_type": "code",
   "execution_count": 51,
   "id": "477c3bba-abeb-4fd5-9166-c8796da6c945",
   "metadata": {
    "tags": []
   },
   "outputs": [],
   "source": [
    "# Reorganize dictionary into just a plain list of the datasets\n",
    "data_list = []\n",
    "\n",
    "for key in all_inputs_dict:\n",
    "    data = all_inputs_dict[key]\n",
    "    data_list.append(data)\n",
    "\n",
    "#print(data_list)\n",
    "#print(data_list[3])\n",
    "num_bands = len(data_list)\n",
    "#print(num_bands)"
   ]
  },
  {
   "cell_type": "code",
   "execution_count": 52,
   "id": "f4f04c17-c47a-4448-857b-c4e0a680a874",
   "metadata": {},
   "outputs": [
    {
     "name": "stdout",
     "output_type": "stream",
     "text": [
      "(3016, 3612)\n",
      "(3016, 3612)\n",
      "(3016, 3612)\n",
      "(3016, 3612)\n",
      "(3016, 3612)\n",
      "(3016, 3612)\n"
     ]
    }
   ],
   "source": [
    "# Test size of arrays so ok to stack\n",
    "print(s2.shape)\n",
    "print(one.shape)\n",
    "print(nhd.shape)\n",
    "print(dem.shape)\n",
    "print(awei.shape)\n",
    "print(all_inputs_dict['one_window'].shape)"
   ]
  },
  {
   "cell_type": "code",
   "execution_count": 53,
   "id": "61c16546-1725-4209-aa72-c69c90cb4bbf",
   "metadata": {},
   "outputs": [],
   "source": [
    "# Combine all arrays into one\n",
    "stacked = np.stack(data_list,axis=0)\n",
    "#stacked.shape # see if (#, , ) # matches num_bands"
   ]
  },
  {
   "cell_type": "code",
   "execution_count": 54,
   "id": "c32f6200-bf37-4aea-800f-ce9295241feb",
   "metadata": {},
   "outputs": [],
   "source": [
    "# Prepare metadata for output tif file\n",
    "s2 = rio.open(s2_path) \n",
    "meta_data = s2.profile\n",
    "meta_data.update(count=num_bands)"
   ]
  },
  {
   "cell_type": "code",
   "execution_count": 55,
   "id": "1d74e988-fb8b-4bf2-b3e2-76b2364b21a1",
   "metadata": {},
   "outputs": [],
   "source": [
    "# Write new tif file\n",
    "with rio.open(tot_path, \"w\", **meta_data) as dst:\n",
    "     dst.write(stacked)"
   ]
  },
  {
   "cell_type": "markdown",
   "id": "02a7eaa2-b9cd-4608-b359-84d10335f7a3",
   "metadata": {},
   "source": [
    "## Step 2: Run RF Model\n",
    "\n",
    "This section is based on GIS713's class_classification notebook."
   ]
  },
  {
   "cell_type": "code",
   "execution_count": 56,
   "id": "d9363a12-ba4f-44b5-95da-ff495648d4f5",
   "metadata": {},
   "outputs": [
    {
     "data": {
      "text/plain": [
       "304"
      ]
     },
     "execution_count": 56,
     "metadata": {},
     "output_type": "execute_result"
    }
   ],
   "source": [
    "shapefile = gpd.read_file(train_path)\n",
    "len(shapefile) # how many polygon features"
   ]
  },
  {
   "cell_type": "code",
   "execution_count": 57,
   "id": "e81a2537-198c-4880-a9b6-63d4d60be93f",
   "metadata": {},
   "outputs": [],
   "source": [
    "# We extract the geometry of each feature in the shapefile in GeoJSON format, which generates a list of shapely geometries\n",
    "geoms = shapefile.geometry.values \n",
    "\n",
    "# check one of these geometries\n",
    "geometry = geoms[0] \n",
    "#print(type(geometry))\n",
    "#print(geometry)\n",
    "\n",
    "# transform to GeoJSON format\n",
    "from shapely.geometry import mapping\n",
    "feature = [mapping(geometry)] \n",
    "#print(type(feature))\n",
    "#print(feature)\n",
    "#print(len(feature))"
   ]
  },
  {
   "cell_type": "code",
   "execution_count": 58,
   "id": "1030b27e-5ecc-4135-9dba-4b5a0626d03e",
   "metadata": {
    "id": "wMp2k2BPQhCH"
   },
   "outputs": [],
   "source": [
    "# extract raster values within polygon\n",
    "s2_bands = rio.open(tot_path) # TEMPORARY FIX\n",
    "out_image, out_transform = mask(s2_bands, feature, crop=True)\n",
    "out_image.shape \n",
    "s2_bands.close() # temp fix"
   ]
  },
  {
   "cell_type": "markdown",
   "id": "4ac06783-2c69-4f30-87b4-651102dbaf09",
   "metadata": {
    "id": "KnabGlY6QhCH"
   },
   "source": [
    "### 2.1 Building the Training Data for scikit-learn  \n",
    "\n",
    "Now let's do it for all features in the shapefile and create an array X that has all the pixels and an array y that has all the training labels."
   ]
  },
  {
   "cell_type": "code",
   "execution_count": 59,
   "id": "dde831df-98aa-4b0b-8f41-47f75ec41474",
   "metadata": {
    "id": "unrV9zAVQhCI"
   },
   "outputs": [],
   "source": [
    "# CHANGE NUM BANDS!\n",
    "X = np.array([], dtype=np.int8).reshape(0,num_bands) # pixels for training\n",
    "y = np.array([], dtype=np.string_) # labels for training"
   ]
  },
  {
   "cell_type": "code",
   "execution_count": 60,
   "id": "8487eb06-c858-41fd-bbd5-d175450898d8",
   "metadata": {
    "id": "rtO3NcgMQhCI"
   },
   "outputs": [],
   "source": [
    "# extract the raster values within the polygon \n",
    "with rio.open(tot_path) as src:\n",
    "    band_count = src.count\n",
    "    for index, geom in enumerate(geoms):\n",
    "        feature = [mapping(geom)]\n",
    "\n",
    "        # the mask function returns an array of the raster pixels within this feature\n",
    "        out_image, out_transform = mask(src, feature, crop=True) \n",
    "        # eliminate all the pixels with 0 values for all 8 bands (not part of the shapefile)\n",
    "        out_image_trimmed = out_image[:,~np.all(out_image == 0, axis=0)]\n",
    "        # eliminate all the pixels with 255 values for all bands (not actually part of the shapefile)\n",
    "        out_image_trimmed = out_image_trimmed[:,~np.all(out_image_trimmed == 255, axis=0)]\n",
    "        # reshape the array to [pixel count, bands]\n",
    "        out_image_reshaped = out_image_trimmed.reshape(-1, band_count)\n",
    "        # append the labels to the y array\n",
    "        y = np.append(y,[shapefile[\"ClassName\"][index]] * out_image_reshaped.shape[0]) \n",
    "        # stack the pixels onto the pixel array\n",
    "        X = np.vstack((X,out_image_reshaped)) "
   ]
  },
  {
   "cell_type": "code",
   "execution_count": 61,
   "id": "515cc4cc-db50-4c20-ba36-5716b575fce1",
   "metadata": {
    "id": "-WWHB0iAQhCI",
    "outputId": "f5ac2152-32f1-4059-fcaf-8d45fb8ed45d"
   },
   "outputs": [
    {
     "data": {
      "text/plain": [
       "array([[   0,    0,    0, ..., 1988, 1988, 1833],\n",
       "       [1988, 2372, 1237, ...,    0,    0,    0],\n",
       "       [   0,    0,    0, ...,    0,    0,    0],\n",
       "       ...,\n",
       "       [   1,    1,    1, ...,    1,    1,    1],\n",
       "       [   1,    1,    1, ...,    1,    1,    1],\n",
       "       [   1,    1,    1, ...,    1,    1,    1]], dtype=int32)"
      ]
     },
     "execution_count": 61,
     "metadata": {},
     "output_type": "execute_result"
    }
   ],
   "source": [
    "X # the \"X\" matrix containing our features (values under the polygons in the 13 bands)"
   ]
  },
  {
   "cell_type": "code",
   "execution_count": 62,
   "id": "e28787be-cd53-41b3-a860-3ad9dfd12655",
   "metadata": {
    "id": "k2Qe-80UQhCJ",
    "outputId": "0f07161b-17cf-41fa-e156-4bb02fc8e84b"
   },
   "outputs": [
    {
     "data": {
      "text/plain": [
       "array(['Water', 'Water', 'Water', ..., 'NotWater', 'NotWater', 'NotWater'],\n",
       "      dtype='<U8')"
      ]
     },
     "execution_count": 62,
     "metadata": {},
     "output_type": "execute_result"
    }
   ],
   "source": [
    "y # the \"y\" array containing our labels"
   ]
  },
  {
   "cell_type": "code",
   "execution_count": 63,
   "id": "d180a9d0-3e2d-41dc-bb3a-298680d406c7",
   "metadata": {
    "id": "I9x65S_BQhCJ",
    "outputId": "e8ae7d30-aef2-4800-a37a-be6c883ea7a2",
    "tags": []
   },
   "outputs": [
    {
     "name": "stdout",
     "output_type": "stream",
     "text": [
      "The training data include 2 classes: ['NotWater' 'Water']\n",
      "\n",
      "Our X matrix is sized: (40667, 43)\n",
      "Our y array is sized: (40667,)\n"
     ]
    }
   ],
   "source": [
    "# What are our classification labels?\n",
    "labels = np.unique(shapefile[\"ClassName\"])\n",
    "# print('The training data include {n} classes: {classes}\\n'.format(n=labels.size, classes=labels))\n",
    "# print('Our X matrix is sized: {sz}'.format(sz=X.shape))\n",
    "# print('Our y array is sized: {sz}'.format(sz=y.shape))\n",
    "print(f'The training data include {labels.size} classes: {labels}\\n')\n",
    "print(f'Our X matrix is sized: {X.shape}')\n",
    "print(f'Our y array is sized: {y.shape}')"
   ]
  },
  {
   "cell_type": "code",
   "execution_count": 64,
   "id": "d522ba03-5521-47e9-a62b-b0cbd0b81ae9",
   "metadata": {
    "id": "UVcixeZKQhCK"
   },
   "outputs": [],
   "source": [
    "# quick helper function to convert the class labels into indicies and assign a dictionary relating the class indices to their names\n",
    "def str_class_to_int(class_array):\n",
    "    class_array[class_array == 'Water'] = 1\n",
    "    class_array[class_array == 'NotWater'] = 2 # NOT water\n",
    "    return(class_array.astype(int))"
   ]
  },
  {
   "cell_type": "markdown",
   "id": "b87b0ba6-67f2-4208-a571-a3511e252fcd",
   "metadata": {
    "id": "E9nsohQ1QhCK"
   },
   "source": [
    "### 2.2 Training the RF Classifier\n",
    "\n",
    "Now that we have our X matrix of feature inputs (the spectral bands) and our y array (the labels), we can train our model."
   ]
  },
  {
   "cell_type": "code",
   "execution_count": 65,
   "id": "4a3a415d-167a-47e4-8a4b-e9a43164e2cf",
   "metadata": {
    "id": "PCrAHsFIQhCK"
   },
   "outputs": [],
   "source": [
    "# Using Skicit-learn to split data into training and testing sets\n",
    "from sklearn.model_selection import train_test_split\n",
    "\n",
    "# Split the data into training and testing sets\n",
    "# test_size = 0.25 >> i.e. 25% of the data; represents the proportion of the dataset to include in the test split\n",
    "train_features, test_features, train_labels, test_labels = train_test_split(X, y, test_size = 0.25, random_state = 8) "
   ]
  },
  {
   "cell_type": "code",
   "execution_count": 66,
   "id": "8f124b58-8832-47cd-9ca9-06034ebf9f69",
   "metadata": {
    "id": "vcWq2raJQhCL",
    "outputId": "7cefa817-e2ca-49bd-ddb6-0960df21635c",
    "tags": []
   },
   "outputs": [
    {
     "name": "stdout",
     "output_type": "stream",
     "text": [
      "Training Features Shape: (30500, 43)\n",
      "Training Labels Shape: (30500,)\n",
      "Testing Features Shape: (10167, 43)\n",
      "Testing Labels Shape: (10167,)\n"
     ]
    }
   ],
   "source": [
    "print('Training Features Shape:', train_features.shape)\n",
    "print('Training Labels Shape:', train_labels.shape)\n",
    "print('Testing Features Shape:', test_features.shape)\n",
    "print('Testing Labels Shape:', test_labels.shape)\n",
    "# 12845+38535 = 51380"
   ]
  },
  {
   "cell_type": "code",
   "execution_count": 67,
   "id": "af953aea-7902-4610-a891-4ecdf4f77136",
   "metadata": {
    "id": "XfESDaGsQhCM",
    "outputId": "14ea5968-484e-4777-e434-5483f66ddba4"
   },
   "outputs": [
    {
     "data": {
      "text/plain": [
       "RandomForestClassifier(random_state=8)"
      ]
     },
     "execution_count": 67,
     "metadata": {},
     "output_type": "execute_result"
    }
   ],
   "source": [
    "# Import the model we are using\n",
    "from sklearn.ensemble import RandomForestClassifier\n",
    "# Instantiate model with 100 decision trees\n",
    "rf = RandomForestClassifier(n_estimators = 100, random_state = 8)\n",
    "# Fit the model on training data\n",
    "rf.fit(train_features, train_labels)"
   ]
  },
  {
   "cell_type": "code",
   "execution_count": 68,
   "id": "d5848aeb-9ae8-4728-82b6-5de6482e18da",
   "metadata": {},
   "outputs": [
    {
     "name": "stdout",
     "output_type": "stream",
     "text": [
      "(3016, 3612, 43) <class 'numpy.ndarray'>\n"
     ]
    }
   ],
   "source": [
    "# Temporary fix\n",
    "s2_bands2 = rio.open(tot_path)\n",
    "clipped_s2_stack = s2_bands2.read()\n",
    "from rasterio.plot import reshape_as_image\n",
    "reshaped_s2_stack = reshape_as_image(clipped_s2_stack)\n",
    "print(reshaped_s2_stack.shape, type(reshaped_s2_stack))\n",
    "s2_bands.close()"
   ]
  },
  {
   "cell_type": "code",
   "execution_count": 69,
   "id": "8aef6e90-72a7-4f4d-9568-d86336876298",
   "metadata": {
    "id": "ydxKFzo5QhCN"
   },
   "outputs": [],
   "source": [
    "# predict on the clipped and reshaped image, go back to WHAT WE DID in cells 127&128 as a reminder as to why we reshape the band\n",
    "# CHANGE NUM!\n",
    "class_prediction = rf.predict(reshaped_s2_stack.reshape(-1, num_bands)) "
   ]
  },
  {
   "cell_type": "code",
   "execution_count": 70,
   "id": "090e7d6d-d9a0-4f57-8b4b-4bfb52514dfb",
   "metadata": {
    "id": "IiyLdzfJQhCO"
   },
   "outputs": [],
   "source": [
    "# Reshape our classification map back into a 2D matrix so we can visualize it\n",
    "class_prediction = class_prediction.reshape(reshaped_s2_stack[:, :, 0].shape)"
   ]
  },
  {
   "cell_type": "code",
   "execution_count": 71,
   "id": "99bd2f8a-5eb8-41fe-9b27-4fc82f0aaf75",
   "metadata": {
    "id": "gsuwPQqCQhCO",
    "outputId": "5789c18d-0052-4a1f-a881-5ee7ddd32ef6"
   },
   "outputs": [
    {
     "data": {
      "text/plain": [
       "array([['NotWater', 'NotWater', 'NotWater', ..., 'NotWater', 'NotWater',\n",
       "        'NotWater'],\n",
       "       ['NotWater', 'NotWater', 'NotWater', ..., 'NotWater', 'NotWater',\n",
       "        'NotWater'],\n",
       "       ['NotWater', 'NotWater', 'NotWater', ..., 'NotWater', 'NotWater',\n",
       "        'NotWater'],\n",
       "       ...,\n",
       "       ['NotWater', 'NotWater', 'NotWater', ..., 'NotWater', 'NotWater',\n",
       "        'NotWater'],\n",
       "       ['NotWater', 'NotWater', 'NotWater', ..., 'NotWater', 'NotWater',\n",
       "        'NotWater'],\n",
       "       ['NotWater', 'NotWater', 'NotWater', ..., 'NotWater', 'NotWater',\n",
       "        'NotWater']], dtype='<U8')"
      ]
     },
     "execution_count": 71,
     "metadata": {},
     "output_type": "execute_result"
    }
   ],
   "source": [
    "class_prediction"
   ]
  },
  {
   "cell_type": "code",
   "execution_count": 72,
   "id": "d8485228-dbf2-48fe-85ac-e1ff01385c22",
   "metadata": {
    "id": "3TXoRcgsQhCO"
   },
   "outputs": [],
   "source": [
    "# apply str_class_to_int\n",
    "class_prediction = str_class_to_int(class_prediction)\n",
    "#class_prediction\n",
    "#class_prediction.shape\n",
    "#np.unique(class_prediction)"
   ]
  },
  {
   "cell_type": "markdown",
   "id": "d34741a9-9e34-47b6-b8dc-8c88899eedda",
   "metadata": {},
   "source": [
    "### 2.3 Display Results"
   ]
  },
  {
   "cell_type": "code",
   "execution_count": 73,
   "id": "3fb38f23-a45c-4cb3-9f2d-83695a7491a3",
   "metadata": {},
   "outputs": [],
   "source": [
    "# define function to stretch the color for better viz\n",
    "def color_stretch(image, index):\n",
    "    colors = image[:, :, index].astype(np.float64)\n",
    "    # print('colors is ', colors)\n",
    "    for b in range(colors.shape[2]):\n",
    "        # print('colors.shape[2] is ', colors.shape[2])\n",
    "        colors[:, :, b] = rasterio.plot.adjust_band(colors[:, :, b])\n",
    "    return colors"
   ]
  },
  {
   "cell_type": "code",
   "execution_count": 74,
   "id": "d70df6e0-88ff-49e6-be7e-9905002625d4",
   "metadata": {
    "id": "qSWr3tU6QhCP",
    "outputId": "da56c441-e1b4-464c-edf9-0b10092406d8"
   },
   "outputs": [
    {
     "data": {
      "text/plain": [
       "<matplotlib.image.AxesImage at 0x29938dd9100>"
      ]
     },
     "execution_count": 74,
     "metadata": {},
     "output_type": "execute_result"
    },
    {
     "data": {
      "image/png": "[encoded data removed]",
      "text/plain": [
       "<Figure size 1000x800 with 2 Axes>"
      ]
     },
     "metadata": {},
     "output_type": "display_data"
    }
   ],
   "source": [
    "# Let's look at the results\n",
    "fig, axs = plt.subplots(1,2,figsize=(10,8))\n",
    "\n",
    "#img_stretched = color_stretch(reshaped_s2_stack, [3,2,1])\n",
    "#axs[0].imshow(img_stretched) # regular thing\n",
    "\n",
    "axs[1].imshow(class_prediction)"
   ]
  },
  {
   "cell_type": "code",
   "execution_count": 86,
   "id": "fc42efe4-e4b0-4cd2-8259-8990c508200f",
   "metadata": {},
   "outputs": [
    {
     "ename": "ValueError",
     "evalue": "Source shape (3016, 3612) is inconsistent with given indexes 43",
     "output_type": "error",
     "traceback": [
      "\u001b[1;31m---------------------------------------------------------------------------\u001b[0m",
      "\u001b[1;31mValueError\u001b[0m                                Traceback (most recent call last)",
      "\u001b[1;32m~\\AppData\\Local\\Temp\\ipykernel_19936\\1150159603.py\u001b[0m in \u001b[0;36m<module>\u001b[1;34m\u001b[0m\n\u001b[0;32m      4\u001b[0m \u001b[1;31m# Write new tif file\u001b[0m\u001b[1;33m\u001b[0m\u001b[1;33m\u001b[0m\u001b[0m\n\u001b[0;32m      5\u001b[0m \u001b[1;32mwith\u001b[0m \u001b[0mrio\u001b[0m\u001b[1;33m.\u001b[0m\u001b[0mopen\u001b[0m\u001b[1;33m(\u001b[0m\u001b[0mpred_path\u001b[0m\u001b[1;33m,\u001b[0m \u001b[1;34m\"w\"\u001b[0m\u001b[1;33m,\u001b[0m \u001b[1;33m**\u001b[0m\u001b[0mmeta_data\u001b[0m\u001b[1;33m)\u001b[0m \u001b[1;32mas\u001b[0m \u001b[0mdst\u001b[0m\u001b[1;33m:\u001b[0m\u001b[1;33m\u001b[0m\u001b[1;33m\u001b[0m\u001b[0m\n\u001b[1;32m----> 6\u001b[1;33m      \u001b[0mdst\u001b[0m\u001b[1;33m.\u001b[0m\u001b[0mwrite\u001b[0m\u001b[1;33m(\u001b[0m\u001b[0mclass_prediction\u001b[0m\u001b[1;33m)\u001b[0m\u001b[1;33m\u001b[0m\u001b[1;33m\u001b[0m\u001b[0m\n\u001b[0m",
      "\u001b[1;32mrasterio\\_io.pyx\u001b[0m in \u001b[0;36mrasterio._io.DatasetWriterBase.write\u001b[1;34m()\u001b[0m\n",
      "\u001b[1;31mValueError\u001b[0m: Source shape (3016, 3612) is inconsistent with given indexes 43"
     ]
    }
   ],
   "source": [
    "# Export result as a tif file\n",
    "meta_data.update(count=num_bands) # update metadata for one band (Water/NotWater)\n",
    "\n",
    "# Write new tif file\n",
    "with rio.open(pred_path, \"w\", **meta_data) as dst:\n",
    "     dst.write(class_prediction)"
   ]
  },
  {
   "cell_type": "markdown",
   "id": "9c9de96d-6ffe-4db0-a943-1a8b19a786ba",
   "metadata": {},
   "source": [
    "### 2.4 Validation & Accuracy "
   ]
  },
  {
   "cell_type": "code",
   "execution_count": 76,
   "id": "1cfeaa95-631c-4886-a869-45f35302bd17",
   "metadata": {
    "id": "LkFhClG_QhCP",
    "outputId": "0036e6b5-abae-4153-a742-d9c5fbd48eab",
    "tags": []
   },
   "outputs": [
    {
     "name": "stdout",
     "output_type": "stream",
     "text": [
      "[0.03639962007177179, 0.02592176790513029, 0.027805589902958477, 0.024123965253694372, 0.023573266340193733, 0.021433273913329647, 0.021482866000689486, 0.019112500774447743, 0.027367819937760357, 0.022008367812134468, 0.022218506969590563, 0.02597627513285522, 0.026913478664060457, 0.02240786429440318, 0.0244128426078864, 0.02345257350957533, 0.02288967383267296, 0.01988106290373729, 0.024145381625795805, 0.026416507551177665, 0.0245561494668312, 0.02687094454713214, 0.021532110093260542, 0.022534673999026422, 0.023181445019509084, 0.018814749209224022, 0.01880139088444237, 0.023140419491656627, 0.016965328665420838, 0.018728526141642086, 0.017945679440020068, 0.01805524120470802, 0.01863706635390449, 0.022407002730242258, 0.022673232020733104, 0.023991504828785516, 0.0304216101882591, 0.02037144517147465, 0.02473830148015969, 0.02004611740810266, 0.022277366501818673, 0.02421721770391266, 0.03114927244586838]\n"
     ]
    }
   ],
   "source": [
    "# Get numerical feature importances\n",
    "importances = list(rf.feature_importances_)\n",
    "print(importances)"
   ]
  },
  {
   "cell_type": "markdown",
   "id": "ef5b7416-96f1-4ae8-a9d3-e0a27218706e",
   "metadata": {
    "id": "Fy_s0w0kQhCQ"
   },
   "source": [
    "Remember we had 13 bands as input features to the classification and each one is given an importance value in predicting the classes water/nonwater, the higher the number the better that features is as a predictor."
   ]
  },
  {
   "cell_type": "code",
   "execution_count": 77,
   "id": "f48d43cc-9706-454b-a47d-4c55206fe3e2",
   "metadata": {
    "id": "-C2N_5HQQhCQ",
    "outputId": "ef021ee4-9824-4a1e-e454-49ac31537422",
    "tags": []
   },
   "outputs": [
    {
     "ename": "ValueError",
     "evalue": "All arrays must be of the same length",
     "output_type": "error",
     "traceback": [
      "\u001b[1;31m---------------------------------------------------------------------------\u001b[0m",
      "\u001b[1;31mValueError\u001b[0m                                Traceback (most recent call last)",
      "\u001b[1;32m~\\AppData\\Local\\Temp\\ipykernel_19936\\2412370583.py\u001b[0m in \u001b[0;36m<module>\u001b[1;34m\u001b[0m\n\u001b[0;32m      4\u001b[0m \u001b[1;31m# band names\u001b[0m\u001b[1;33m\u001b[0m\u001b[1;33m\u001b[0m\u001b[0m\n\u001b[0;32m      5\u001b[0m \u001b[0mband_names\u001b[0m \u001b[1;33m=\u001b[0m \u001b[0mrange\u001b[0m\u001b[1;33m(\u001b[0m\u001b[1;36m1\u001b[0m\u001b[1;33m,\u001b[0m\u001b[1;36m14\u001b[0m\u001b[1;33m,\u001b[0m\u001b[1;36m1\u001b[0m\u001b[1;33m)\u001b[0m \u001b[1;31m# If 16 bands, put 17 in middle\u001b[0m\u001b[1;33m\u001b[0m\u001b[1;33m\u001b[0m\u001b[0m\n\u001b[1;32m----> 6\u001b[1;33m \u001b[0mdf\u001b[0m \u001b[1;33m=\u001b[0m \u001b[0mpd\u001b[0m\u001b[1;33m.\u001b[0m\u001b[0mDataFrame\u001b[0m\u001b[1;33m(\u001b[0m\u001b[1;33m{\u001b[0m\u001b[1;34m'Band'\u001b[0m\u001b[1;33m:\u001b[0m\u001b[0mlist\u001b[0m\u001b[1;33m(\u001b[0m\u001b[0mrange\u001b[0m\u001b[1;33m(\u001b[0m\u001b[1;36m1\u001b[0m\u001b[1;33m,\u001b[0m\u001b[1;36m17\u001b[0m\u001b[1;33m,\u001b[0m\u001b[1;36m1\u001b[0m\u001b[1;33m)\u001b[0m\u001b[1;33m)\u001b[0m\u001b[1;33m,\u001b[0m\u001b[1;34m'RF_Importance'\u001b[0m\u001b[1;33m:\u001b[0m\u001b[0mimportances\u001b[0m\u001b[1;33m}\u001b[0m\u001b[1;33m)\u001b[0m\u001b[1;33m.\u001b[0m\u001b[0msort_values\u001b[0m\u001b[1;33m(\u001b[0m\u001b[0mby\u001b[0m\u001b[1;33m=\u001b[0m\u001b[1;33m[\u001b[0m\u001b[1;34m'RF_Importance'\u001b[0m\u001b[1;33m]\u001b[0m\u001b[1;33m,\u001b[0m\u001b[0mascending\u001b[0m\u001b[1;33m=\u001b[0m\u001b[1;32mFalse\u001b[0m\u001b[1;33m)\u001b[0m\u001b[1;33m\u001b[0m\u001b[1;33m\u001b[0m\u001b[0m\n\u001b[0m\u001b[0;32m      7\u001b[0m \u001b[0mdf\u001b[0m\u001b[1;33m\u001b[0m\u001b[1;33m\u001b[0m\u001b[0m\n",
      "\u001b[1;32m~\\Anaconda3\\lib\\site-packages\\pandas\\core\\frame.py\u001b[0m in \u001b[0;36m__init__\u001b[1;34m(self, data, index, columns, dtype, copy)\u001b[0m\n\u001b[0;32m    634\u001b[0m         \u001b[1;32melif\u001b[0m \u001b[0misinstance\u001b[0m\u001b[1;33m(\u001b[0m\u001b[0mdata\u001b[0m\u001b[1;33m,\u001b[0m \u001b[0mdict\u001b[0m\u001b[1;33m)\u001b[0m\u001b[1;33m:\u001b[0m\u001b[1;33m\u001b[0m\u001b[1;33m\u001b[0m\u001b[0m\n\u001b[0;32m    635\u001b[0m             \u001b[1;31m# GH#38939 de facto copy defaults to False only in non-dict cases\u001b[0m\u001b[1;33m\u001b[0m\u001b[1;33m\u001b[0m\u001b[0m\n\u001b[1;32m--> 636\u001b[1;33m             \u001b[0mmgr\u001b[0m \u001b[1;33m=\u001b[0m \u001b[0mdict_to_mgr\u001b[0m\u001b[1;33m(\u001b[0m\u001b[0mdata\u001b[0m\u001b[1;33m,\u001b[0m \u001b[0mindex\u001b[0m\u001b[1;33m,\u001b[0m \u001b[0mcolumns\u001b[0m\u001b[1;33m,\u001b[0m \u001b[0mdtype\u001b[0m\u001b[1;33m=\u001b[0m\u001b[0mdtype\u001b[0m\u001b[1;33m,\u001b[0m \u001b[0mcopy\u001b[0m\u001b[1;33m=\u001b[0m\u001b[0mcopy\u001b[0m\u001b[1;33m,\u001b[0m \u001b[0mtyp\u001b[0m\u001b[1;33m=\u001b[0m\u001b[0mmanager\u001b[0m\u001b[1;33m)\u001b[0m\u001b[1;33m\u001b[0m\u001b[1;33m\u001b[0m\u001b[0m\n\u001b[0m\u001b[0;32m    637\u001b[0m         \u001b[1;32melif\u001b[0m \u001b[0misinstance\u001b[0m\u001b[1;33m(\u001b[0m\u001b[0mdata\u001b[0m\u001b[1;33m,\u001b[0m \u001b[0mma\u001b[0m\u001b[1;33m.\u001b[0m\u001b[0mMaskedArray\u001b[0m\u001b[1;33m)\u001b[0m\u001b[1;33m:\u001b[0m\u001b[1;33m\u001b[0m\u001b[1;33m\u001b[0m\u001b[0m\n\u001b[0;32m    638\u001b[0m             \u001b[1;32mimport\u001b[0m \u001b[0mnumpy\u001b[0m\u001b[1;33m.\u001b[0m\u001b[0mma\u001b[0m\u001b[1;33m.\u001b[0m\u001b[0mmrecords\u001b[0m \u001b[1;32mas\u001b[0m \u001b[0mmrecords\u001b[0m\u001b[1;33m\u001b[0m\u001b[1;33m\u001b[0m\u001b[0m\n",
      "\u001b[1;32m~\\Anaconda3\\lib\\site-packages\\pandas\\core\\internals\\construction.py\u001b[0m in \u001b[0;36mdict_to_mgr\u001b[1;34m(data, index, columns, dtype, typ, copy)\u001b[0m\n\u001b[0;32m    500\u001b[0m         \u001b[1;31m# TODO: can we get rid of the dt64tz special case above?\u001b[0m\u001b[1;33m\u001b[0m\u001b[1;33m\u001b[0m\u001b[0m\n\u001b[0;32m    501\u001b[0m \u001b[1;33m\u001b[0m\u001b[0m\n\u001b[1;32m--> 502\u001b[1;33m     \u001b[1;32mreturn\u001b[0m \u001b[0marrays_to_mgr\u001b[0m\u001b[1;33m(\u001b[0m\u001b[0marrays\u001b[0m\u001b[1;33m,\u001b[0m \u001b[0mcolumns\u001b[0m\u001b[1;33m,\u001b[0m \u001b[0mindex\u001b[0m\u001b[1;33m,\u001b[0m \u001b[0mdtype\u001b[0m\u001b[1;33m=\u001b[0m\u001b[0mdtype\u001b[0m\u001b[1;33m,\u001b[0m \u001b[0mtyp\u001b[0m\u001b[1;33m=\u001b[0m\u001b[0mtyp\u001b[0m\u001b[1;33m,\u001b[0m \u001b[0mconsolidate\u001b[0m\u001b[1;33m=\u001b[0m\u001b[0mcopy\u001b[0m\u001b[1;33m)\u001b[0m\u001b[1;33m\u001b[0m\u001b[1;33m\u001b[0m\u001b[0m\n\u001b[0m\u001b[0;32m    503\u001b[0m \u001b[1;33m\u001b[0m\u001b[0m\n\u001b[0;32m    504\u001b[0m \u001b[1;33m\u001b[0m\u001b[0m\n",
      "\u001b[1;32m~\\Anaconda3\\lib\\site-packages\\pandas\\core\\internals\\construction.py\u001b[0m in \u001b[0;36marrays_to_mgr\u001b[1;34m(arrays, columns, index, dtype, verify_integrity, typ, consolidate)\u001b[0m\n\u001b[0;32m    118\u001b[0m         \u001b[1;31m# figure out the index, if necessary\u001b[0m\u001b[1;33m\u001b[0m\u001b[1;33m\u001b[0m\u001b[0m\n\u001b[0;32m    119\u001b[0m         \u001b[1;32mif\u001b[0m \u001b[0mindex\u001b[0m \u001b[1;32mis\u001b[0m \u001b[1;32mNone\u001b[0m\u001b[1;33m:\u001b[0m\u001b[1;33m\u001b[0m\u001b[1;33m\u001b[0m\u001b[0m\n\u001b[1;32m--> 120\u001b[1;33m             \u001b[0mindex\u001b[0m \u001b[1;33m=\u001b[0m \u001b[0m_extract_index\u001b[0m\u001b[1;33m(\u001b[0m\u001b[0marrays\u001b[0m\u001b[1;33m)\u001b[0m\u001b[1;33m\u001b[0m\u001b[1;33m\u001b[0m\u001b[0m\n\u001b[0m\u001b[0;32m    121\u001b[0m         \u001b[1;32melse\u001b[0m\u001b[1;33m:\u001b[0m\u001b[1;33m\u001b[0m\u001b[1;33m\u001b[0m\u001b[0m\n\u001b[0;32m    122\u001b[0m             \u001b[0mindex\u001b[0m \u001b[1;33m=\u001b[0m \u001b[0mensure_index\u001b[0m\u001b[1;33m(\u001b[0m\u001b[0mindex\u001b[0m\u001b[1;33m)\u001b[0m\u001b[1;33m\u001b[0m\u001b[1;33m\u001b[0m\u001b[0m\n",
      "\u001b[1;32m~\\Anaconda3\\lib\\site-packages\\pandas\\core\\internals\\construction.py\u001b[0m in \u001b[0;36m_extract_index\u001b[1;34m(data)\u001b[0m\n\u001b[0;32m    672\u001b[0m             \u001b[0mlengths\u001b[0m \u001b[1;33m=\u001b[0m \u001b[0mlist\u001b[0m\u001b[1;33m(\u001b[0m\u001b[0mset\u001b[0m\u001b[1;33m(\u001b[0m\u001b[0mraw_lengths\u001b[0m\u001b[1;33m)\u001b[0m\u001b[1;33m)\u001b[0m\u001b[1;33m\u001b[0m\u001b[1;33m\u001b[0m\u001b[0m\n\u001b[0;32m    673\u001b[0m             \u001b[1;32mif\u001b[0m \u001b[0mlen\u001b[0m\u001b[1;33m(\u001b[0m\u001b[0mlengths\u001b[0m\u001b[1;33m)\u001b[0m \u001b[1;33m>\u001b[0m \u001b[1;36m1\u001b[0m\u001b[1;33m:\u001b[0m\u001b[1;33m\u001b[0m\u001b[1;33m\u001b[0m\u001b[0m\n\u001b[1;32m--> 674\u001b[1;33m                 \u001b[1;32mraise\u001b[0m \u001b[0mValueError\u001b[0m\u001b[1;33m(\u001b[0m\u001b[1;34m\"All arrays must be of the same length\"\u001b[0m\u001b[1;33m)\u001b[0m\u001b[1;33m\u001b[0m\u001b[1;33m\u001b[0m\u001b[0m\n\u001b[0m\u001b[0;32m    675\u001b[0m \u001b[1;33m\u001b[0m\u001b[0m\n\u001b[0;32m    676\u001b[0m             \u001b[1;32mif\u001b[0m \u001b[0mhave_dicts\u001b[0m\u001b[1;33m:\u001b[0m\u001b[1;33m\u001b[0m\u001b[1;33m\u001b[0m\u001b[0m\n",
      "\u001b[1;31mValueError\u001b[0m: All arrays must be of the same length"
     ]
    }
   ],
   "source": [
    "# Let's format the array for better viz\n",
    "import pandas as pd\n",
    "\n",
    "# band names\n",
    "band_names = range(1,14,1) # If 16 bands, put 17 in middle\n",
    "df = pd.DataFrame({'Band':list(range(1,17,1)),'RF_Importance':importances}).sort_values(by=['RF_Importance'],ascending=False)\n",
    "df"
   ]
  },
  {
   "cell_type": "code",
   "execution_count": 78,
   "id": "76257886-4426-4a69-802e-cdd02b14c680",
   "metadata": {
    "id": "vTzZlhj_QhCQ"
   },
   "outputs": [],
   "source": [
    "# Confusion Matrix\n",
    "from sklearn.metrics import confusion_matrix"
   ]
  },
  {
   "cell_type": "code",
   "execution_count": 79,
   "id": "95387386-b7f3-4805-a563-07b54fa53158",
   "metadata": {
    "id": "4IOobPGGQhCR",
    "outputId": "66246da9-17aa-4183-be4c-6a04cc509871",
    "tags": []
   },
   "outputs": [
    {
     "name": "stdout",
     "output_type": "stream",
     "text": [
      "NotWater\n",
      "Water\n"
     ]
    }
   ],
   "source": [
    "print(rf.classes_[0])\n",
    "print(rf.classes_[1])"
   ]
  },
  {
   "cell_type": "code",
   "execution_count": 80,
   "id": "e78491b6-d92e-486d-b936-405c146d951b",
   "metadata": {
    "id": "IMNZaxoYQhCR"
   },
   "outputs": [],
   "source": [
    "# Predicting the Test set results\n",
    "y_pred = rf.predict(test_features) # predict the class for the instances in the test set"
   ]
  },
  {
   "cell_type": "code",
   "execution_count": 81,
   "id": "b1f15d4c-d9c0-473f-944f-325c152b6429",
   "metadata": {
    "id": "stAJojKWQhCR",
    "outputId": "cd027317-47c6-4120-9f72-e65587d59de2",
    "tags": []
   },
   "outputs": [
    {
     "name": "stdout",
     "output_type": "stream",
     "text": [
      "Negative Class:  NotWater\n",
      "Positive Class:  Water\n",
      "[[0.64       0.36      ]\n",
      " [0.83       0.17      ]\n",
      " [0.12       0.88      ]\n",
      " ...\n",
      " [0.35990125 0.64009875]\n",
      " [1.         0.        ]\n",
      " [0.         1.        ]]\n"
     ]
    }
   ],
   "source": [
    "# Predicting class probabilities\n",
    "print(\"Negative Class: \", rf.classes_[0])\n",
    "print(\"Positive Class: \", rf.classes_[1])\n",
    "probs = rf.predict_proba(test_features) # Given an instance in the test set, what is the probability of each class it may fall in\n",
    "print(probs)"
   ]
  },
  {
   "cell_type": "code",
   "execution_count": 82,
   "id": "146ea711-1d74-4ffe-8116-4de1e8c46b0e",
   "metadata": {
    "id": "4kBmh7aFQhCR",
    "outputId": "982b8b59-73ec-43ff-8a83-3b6adefbe8de",
    "tags": []
   },
   "outputs": [
    {
     "name": "stdout",
     "output_type": "stream",
     "text": [
      "[[3261 1325]\n",
      " [ 526 5055]]\n"
     ]
    }
   ],
   "source": [
    "print(confusion_matrix(test_labels, y_pred))"
   ]
  },
  {
   "cell_type": "code",
   "execution_count": 83,
   "id": "e7d3aacb-4795-46b2-a9c7-3f6019f27173",
   "metadata": {
    "id": "QQsTNqnwQhCS",
    "outputId": "0b70af0f-29eb-44e2-cbbc-01ce2237c067",
    "tags": []
   },
   "outputs": [
    {
     "name": "stdout",
     "output_type": "stream",
     "text": [
      "(5055, 1325, 526, 3261)\n"
     ]
    }
   ],
   "source": [
    "# At the True Negatives, False Positives, False Negatives, True Positives\n",
    "tp, fp, fn, tn = confusion_matrix(test_labels, y_pred).ravel()\n",
    "print((tn, fp, fn, tp))"
   ]
  },
  {
   "cell_type": "code",
   "execution_count": 84,
   "id": "5dfc9dc7-5400-4bd9-b330-4f34415e3552",
   "metadata": {
    "id": "2wzD391WQhCS",
    "outputId": "0a4b1a6f-28ef-4cef-a48b-9adc89a63a94",
    "tags": []
   },
   "outputs": [
    {
     "name": "stdout",
     "output_type": "stream",
     "text": [
      "0.8179403953968722\n"
     ]
    }
   ],
   "source": [
    "# Accuracy Score\n",
    "from sklearn.metrics import accuracy_score\n",
    "print( accuracy_score(test_labels, y_pred) )"
   ]
  },
  {
   "cell_type": "code",
   "execution_count": 85,
   "id": "e2cd4b7d-45fa-4273-bec2-da2b4749ce52",
   "metadata": {
    "id": "R_N83Mq-QhCT",
    "tags": []
   },
   "outputs": [
    {
     "name": "stdout",
     "output_type": "stream",
     "text": [
      "              precision    recall  f1-score   support\n",
      "\n",
      "    NotWater     0.8611    0.7111    0.7789      4586\n",
      "       Water     0.7923    0.9058    0.8452      5581\n",
      "\n",
      "    accuracy                         0.8179     10167\n",
      "   macro avg     0.8267    0.8084    0.8121     10167\n",
      "weighted avg     0.8233    0.8179    0.8153     10167\n",
      "\n"
     ]
    }
   ],
   "source": [
    "# Classificaton Report \n",
    "from sklearn.metrics import classification_report\n",
    "print(classification_report(test_labels, y_pred, digits=4))"
   ]
  },
  {
   "cell_type": "code",
   "execution_count": null,
   "id": "95274fba-f5c1-427c-9d36-864d96754527",
   "metadata": {},
   "outputs": [],
   "source": []
  },
  {
   "cell_type": "code",
   "execution_count": null,
   "id": "bad50168-a80c-4407-8ae7-3c1ca30f2ed9",
   "metadata": {},
   "outputs": [],
   "source": []
  },
  {
   "cell_type": "code",
   "execution_count": null,
   "id": "f49c34d8-335a-4b93-b843-b8f0cb05347f",
   "metadata": {},
   "outputs": [],
   "source": []
  },
  {
   "cell_type": "code",
   "execution_count": null,
   "id": "2072ba15-3585-4259-9d70-72df624091c5",
   "metadata": {},
   "outputs": [],
   "source": []
  }
 ],
 "metadata": {
  "kernelspec": {
   "display_name": "Python 3 (ipykernel)",
   "language": "python",
   "name": "python3"
  },
  "language_info": {
   "codemirror_mode": {
    "name": "ipython",
    "version": 3
   },
   "file_extension": ".py",
   "mimetype": "text/x-python",
   "name": "python",
   "nbconvert_exporter": "python",
   "pygments_lexer": "ipython3",
   "version": "3.9.13"
  }
 },
 "nbformat": 4,
 "nbformat_minor": 5
}
