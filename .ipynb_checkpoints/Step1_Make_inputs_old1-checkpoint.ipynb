{
 "cells": [
  {
   "cell_type": "markdown",
   "id": "9b1b962c",
   "metadata": {},
   "source": [
    "# Step 0-1: Get Data & S2 input data "
   ]
  },
  {
   "cell_type": "markdown",
   "id": "4bbf487b-43e6-4362-8861-a7a0edbbe65f",
   "metadata": {},
   "source": [
    "***"
   ]
  },
  {
   "cell_type": "markdown",
   "id": "098a19c6",
   "metadata": {},
   "source": [
    "## Step 0: Get Data"
   ]
  },
  {
   "cell_type": "markdown",
   "id": "5a941e99-4d2d-4342-bb6f-29b128beaa55",
   "metadata": {},
   "source": [
    "### 0.1 Get S2 from GEE"
   ]
  },
  {
   "cell_type": "markdown",
   "id": "203b967a-3acd-4f35-bf2e-ba7915d8ea02",
   "metadata": {},
   "source": [
    "In GEE run code to get Sentinel-2 imagery without clouds for September 2, 2021.\n",
    "\n",
    "Link to GEE Code: https://code.earthengine.google.com/06e0b9733609d890d5bdd43df538f71d"
   ]
  },
  {
   "cell_type": "markdown",
   "id": "732cb312-b818-4e09-aaac-de24359a1a4e",
   "metadata": {},
   "source": [
    "### 0.2 Get S2 & other data from Drive"
   ]
  },
  {
   "cell_type": "markdown",
   "id": "3c0d12a2-00c0-4ace-a7fe-3a05a2e3c1e3",
   "metadata": {},
   "source": [
    "After GEE code is run, S2 imagery will be exported into Google Drive. \n",
    "\n",
    "Link to project data folder: https://drive.google.com/drive/folders/1O_ZBg3JLkzNLwHJUhyCU2UZ5-rb6ZJJW?usp=share_link\n",
    "\n",
    "In folder:\n",
    "\n",
    "- Sentinel2_09012021.tif (S2 data WITHOUT cloud mask)\n",
    "- Philadelphia_dem_3ft_2022.tif (study area DEM 3ft resolution)\n",
    "- Philadelphia.geojson (study area)\n",
    "- Phila_Buff_5k.geojson (buffered study area)"
   ]
  },
  {
   "cell_type": "markdown",
   "id": "2dc17ea0-71a1-486f-bef9-4fa3fa1ed7b9",
   "metadata": {},
   "source": [
    "### 0.3 Make DEM Inputs"
   ]
  },
  {
   "cell_type": "markdown",
   "id": "21148720-2d47-4d00-b2ca-2e5ff5e334c9",
   "metadata": {},
   "source": [
    "In QGIS use the DEM file to create slope and hillshade layers, then combine them all into one layer. \n",
    "\n",
    "In QGIS use the raster tool \"slope\" and \"hillshade\" on the DEM layer. Then use the \"merge\" tool (under Miscelaneous) to combine the slope and hillshade layers (click \"add each layer as seperate band\") then repeat to add the resulting merged layer to the DEM layer. Note which bands are which (1-hillshade, 2-slope, 3-dem), reprojected to 32618, updated metadata & exported as a geotiff."
   ]
  },
  {
   "cell_type": "markdown",
   "id": "08c903ff-23bf-4a17-9c44-0640abe485ef",
   "metadata": {},
   "source": [
    "***"
   ]
  },
  {
   "cell_type": "markdown",
   "id": "d5c2adb7-700c-41fd-abf2-26a78d80a21e",
   "metadata": {
    "tags": []
   },
   "source": [
    "## Step 1: Make S2 input data"
   ]
  },
  {
   "cell_type": "markdown",
   "id": "7d19b91e-755d-4aa5-9884-0f37d3c576ed",
   "metadata": {},
   "source": [
    "### 1.1 Get data into python"
   ]
  },
  {
   "cell_type": "markdown",
   "id": "41bcd6c1-25d2-4b7a-a772-d728c1fbb7c7",
   "metadata": {},
   "source": [
    "If having trouble importing, check Anaconda, if not in there then open Anaconda Prompt (go to where the app is), then type --> conda install -c conda-forge PACKAGENAME"
   ]
  },
  {
   "cell_type": "code",
   "execution_count": 47,
   "id": "e54bbc2d",
   "metadata": {},
   "outputs": [],
   "source": [
    "# Import packages\n",
    "import os\n",
    "import rasterio as rio\n",
    "from rasterio.plot import show\n",
    "import rioxarray as rxr\n",
    "import geopandas as gpd\n",
    "import numpy as np\n",
    "import pandas as pd\n",
    "import folium\n",
    "import matplotlib.pyplot as plt"
   ]
  },
  {
   "cell_type": "code",
   "execution_count": 48,
   "id": "ba7e0dbc-3cb7-4bec-8dae-39cd86e97290",
   "metadata": {
    "scrolled": true
   },
   "outputs": [
    {
     "data": {
      "text/plain": [
       "'C:\\\\Users\\\\rcompos\\\\OneDrive - North Carolina State University\\\\Documents\\\\Research\\\\Scripts'"
      ]
     },
     "execution_count": 48,
     "metadata": {},
     "output_type": "execute_result"
    }
   ],
   "source": [
    "# Set wd\n",
    "wd_path = \"C:\\\\Users\\\\rcompos\\\\OneDrive - North Carolina State University\\\\Documents\\\\Research\\\\Scripts\"\n",
    "os.chdir(wd_path)\n",
    "os.getcwd() # get wd\n",
    "#os.listdir() # get available data"
   ]
  },
  {
   "cell_type": "markdown",
   "id": "7a4e4893-a96f-42a4-a32f-b6e509221769",
   "metadata": {},
   "source": [
    "### 1.2 Prepare Sentinel-2"
   ]
  },
  {
   "cell_type": "code",
   "execution_count": 13,
   "id": "3700ceb0",
   "metadata": {},
   "outputs": [],
   "source": [
    "# Paths\n",
    "s2_path = \"./Sentinel_data/Sentinel2_09022021_4326_clip.tif\" # Sentinel2_09012021.tif\n",
    "#phi_path = \"Phila_Buff_5k.geojson\" # \".\\\\Phila_shapes\\\\Files\\\\Philadelphia.shp\" #\"Phila_Buff_5k.geojson\" "
   ]
  },
  {
   "cell_type": "raw",
   "id": "de971402-fbc2-4488-8ec8-abba04e882df",
   "metadata": {},
   "source": [
    "# read in raster with rasterio\n",
    "# code from NR491 week 4/6\n",
    "\n",
    "'''\n",
    "with rio.open(s2_path) as src:\n",
    "    s2_data = src.read(1) # use 1 because rasters index starting at 1\n",
    "    \n",
    "    # get metadata\n",
    "    s2_meta = src.meta\n",
    "    for key in s2_meta.keys():\n",
    "        print(f'{key}: {s2_meta[key]}')\n",
    "    # save metadata of interest by specifically calling the src attributes\n",
    "    s2_crs = src.crs # corrdinate reference system of the raster\n",
    "    s2_res = src.res # resolution of the pixels\n",
    "    s2_extent = src.bounds # coordinates for the bounding box of the raster\n",
    "    s2_bands = src.count # number of bands in the raster\n",
    "    s2_transform = src.transform # more spatial information, including pixel resolution and bounds as a specific data type\n",
    "\n",
    "    \n",
    "# Getting an error here!!\n",
    "    #lclu_colors = src.colormap(1) # get the colormap for Band 1\n",
    "    #print('lclu_colors ', lclu_colors)\n",
    "\n",
    "    # compare the FOR loop printed information and the direct print\n",
    "    print(f'\\n{src.meta}')\n",
    "\n",
    "'''"
   ]
  },
  {
   "cell_type": "raw",
   "id": "9117f367-57cd-4d25-bb75-7bdcd6903b25",
   "metadata": {},
   "source": [
    "# Explore data without with statement\n",
    "'''\n",
    "s2_data = rio.open(s2_path) # upload data\n",
    "s2_data.shape\n",
    "print(s2_bands)\n",
    "s2_data.count # Gets an error\n",
    "show((src,6)) # display band 6\n",
    "r = src.read() # read all bands\n",
    "r # prints all bands\n",
    "r[3] # print band 3\n",
    "r[3].mean() # find mean of band 3\n",
    "'''"
   ]
  },
  {
   "cell_type": "raw",
   "id": "b69a700a-f3b1-4348-b416-478bed3cae4b",
   "metadata": {},
   "source": [
    "# Explore aoi, then clip to tiff\n",
    "\n",
    "'''\n",
    "phi = gpd.read_file(phi_path) # upload\n",
    "#phi.crs\n",
    "phip = phi.to_crs(32618) # project to match tiff\n",
    "#phip.crs\n",
    "s2c = s2.rio.clip(phi.geometry, phi.crs) # Errors galore!\n",
    "'''"
   ]
  },
  {
   "cell_type": "code",
   "execution_count": null,
   "id": "4c0b8720-a117-43b4-b5d5-c2cc594d8678",
   "metadata": {},
   "outputs": [],
   "source": [
    "# Save needed bands for calculations\n",
    "s2 = rio.open(s2_path) # read in data\n",
    "one = s2.read(1)\n",
    "blue = s2.read(2)\n",
    "green = s2.read(3)\n",
    "red = s2.read(4)\n",
    "five = s2.read(5)\n",
    "six = s2.read(6)\n",
    "sev = s2.read(7)\n",
    "nir = s2.read(8)\n",
    "nin = s2.read(9)\n",
    "swir1 = s2.read(11) # SWIR1 is band 11, SWIR2 is band 12\n",
    "swir2 = s2.read(12)\n",
    "thtee = s2.read(13)\n",
    "s2.close()\n",
    "#mir = ???"
   ]
  },
  {
   "cell_type": "code",
   "execution_count": null,
   "id": "b43a2819-1ef0-4b66-a318-9935109dff19",
   "metadata": {},
   "outputs": [],
   "source": [
    "#s2.crs"
   ]
  },
  {
   "cell_type": "markdown",
   "id": "591971ad-11dd-46ea-98ca-a5709091595d",
   "metadata": {},
   "source": [
    "## 1.3 Calculations with Sentinel-2"
   ]
  },
  {
   "cell_type": "markdown",
   "id": "0101727a-01e2-46e6-9719-77244521c930",
   "metadata": {},
   "source": [
    "#### Normalized Difference Vegetation Index (NDVI)\n",
    "Formula: NDVI = (NIR-Red)/(NIR+Red)"
   ]
  },
  {
   "cell_type": "markdown",
   "id": "cfa12a32-71a9-42ae-a2fc-6a93cd42cd27",
   "metadata": {},
   "source": [
    "##### NDVI Test 1\n",
    "Uses planet code - https://developers.planet.com/docs/planetschool/calculate-an-ndvi-in-python/\n",
    "And github - https://github.com/parulnith/Satellite-Imagery-Analysis-with-Python/blob/master/Calculating%20NDVI%20for%20our%20Area%20of%20Interest.ipynb"
   ]
  },
  {
   "cell_type": "code",
   "execution_count": null,
   "id": "b5f7993c-6e2a-4944-ab83-7580d2a0c20a",
   "metadata": {},
   "outputs": [],
   "source": [
    "# Calculate NDVI\n",
    "# Planet recommends multiplying bands by coefficients made from TOA\n",
    "\n",
    "# Allow division by zero\n",
    "np.seterr(divide='ignore', invalid='ignore')\n",
    "\n",
    "# Run Formula \n",
    "ndvi = (nir.astype(float) - red.astype(float)) / (nir + red)\n",
    "\n",
    "# Explore\n",
    "#ndvi # print\n",
    "#np.nanmax(ndvi) # get max\n",
    "show(source = ndvi, ax = None) # display"
   ]
  },
  {
   "cell_type": "markdown",
   "id": "f45ec343-bb5d-4dd0-9b1b-b0f64dcc770e",
   "metadata": {},
   "source": [
    "##### NDVI Test 2\n",
    "Use BGU code - https://geobgu.xyz/py/rasterio.html#reading-raster-data"
   ]
  },
  {
   "cell_type": "raw",
   "id": "ebb239ff-111b-413f-a83a-491e4eb1d0cd",
   "metadata": {},
   "source": [
    "# formula for sentinel 8 = NIR, 4 = red \n",
    "\n",
    "'''\n",
    "ndvi = (r[8]-r[4]) / (r[8] + r[4])\n",
    "ndvi\n",
    "ndvi.nanmax(ndvi) # get max ignoring nan\n",
    "show(ndvi) # display\n",
    "'''"
   ]
  },
  {
   "cell_type": "markdown",
   "id": "1cc99a05-ff78-4daf-8738-0fc97b9ecc9a",
   "metadata": {},
   "source": [
    "##### NDVI Test 3 \n",
    "Uses Earthpy"
   ]
  },
  {
   "cell_type": "raw",
   "id": "d9b88a96-a616-4fb2-8a0d-6ae3a659916a",
   "metadata": {},
   "source": [
    "# Calculate NDVI w/ eartpy\n",
    "# https://earthpy.readthedocs.io/en/latest/gallery_vignettes/plot_calculate_classify_ndvi.html?highlight=difference#calculating-normalized-difference-in-python-using-earthpy\n",
    "#naip_ndvi = es.normalized_diff(naip_data[3], naip_data[0])\n",
    "#print(naip_ndvi)"
   ]
  },
  {
   "cell_type": "markdown",
   "id": "bff57876-d65a-49ff-8ee2-8c06556d8550",
   "metadata": {},
   "source": [
    "#### Enhanced Vegetation Index (EVI)\n",
    "Formula: 2.5 * (NIR - RED) / ((NIR + 6* RED - 7.5* BLUE) + 1\n",
    "\n",
    "About: Considered the advanced ndvi, should be between 1 (green) and 0 (not healthy veg) (BUT landsat says it can be between -10k and 10k). Improved bc incorporate more bands that decrease background + atmospheric noise, + saturation. \n",
    "\n",
    "\n",
    "Sources: https://www.usgs.gov/landsat-missions/landsat-enhanced-vegetation-index;\n",
    "https://custom-scripts.sentinel-hub.com/custom-scripts/sentinel-2/evi/#; https://hub4everybody.com/enhanced-vegetation-index-evi/?hs-panel=&hs-x=1883916.5156348734&hs-y=6303928.185111765&hs-z=11&hs-lang=en&hs-visible-layers=OpenStreetMap%3BEVI%202020_04_22%3BEVI%202020_05_22%3Brostenice_2020&map-swipe=disabled&app=default\n",
    "\n",
    "\n",
    "EVI = G * ((NIR - R) / (NIR + C1 * R – C2 * B + L))\n",
    "In Landsat 4-7, EVI = 2.5 * ((Band 4 – Band 3) / (Band 4 + 6 * Band 3 – 7.5 * Band 1 + 1))."
   ]
  },
  {
   "cell_type": "code",
   "execution_count": null,
   "id": "b1e438e9-b2e1-429e-aaec-4f2a5df133e9",
   "metadata": {},
   "outputs": [],
   "source": [
    "# Calculate EVI\n",
    "\n",
    "# Run Formula \n",
    "evi = 2.5 * ((nir - red) / (nir + 6*red - 7.5*blue + 1))\n",
    "\n",
    "# Explore\n",
    "#np.nanmax(evi)\n",
    "#np.min(evi)\n",
    "#show(evi)"
   ]
  },
  {
   "cell_type": "markdown",
   "id": "e997f380-0d52-43bb-9f68-0f807cf3bfdb",
   "metadata": {},
   "source": [
    "#### Normalized Difference Water Index (NDWI)\n",
    "Formula: (Green-NIR)/(Green+NIR)"
   ]
  },
  {
   "cell_type": "code",
   "execution_count": null,
   "id": "2b5f3257-1d0b-4bdf-9599-8234f1f847b1",
   "metadata": {},
   "outputs": [],
   "source": [
    "# Calculate NDWI\n",
    "\n",
    "# Run Formula \n",
    "ndwi = (green - nir) / (green + nir)\n",
    "\n",
    "# Explore\n",
    "#np.nanmax(ndwi)\n",
    "#show(ndwi)"
   ]
  },
  {
   "cell_type": "markdown",
   "id": "4f7aac0a-cb07-4078-93ad-c8de5535a56b",
   "metadata": {},
   "source": [
    "#### Modified Normalized Difference Water Index (MNDWI)\n",
    "Formula: MNDWI = (Green-MIR)/(Green+MIR)"
   ]
  },
  {
   "cell_type": "code",
   "execution_count": null,
   "id": "60152341-cfb3-4e5f-939b-9ea09876f96f",
   "metadata": {},
   "outputs": [],
   "source": [
    "# Calculate MNDWI --> Is it possible without MIR?\n",
    "\n",
    "# Run Formula \n",
    "#mndwi = (green - mir) / (green + mir)\n",
    "\n",
    "# Explore\n",
    "#np.nanmax(mndwi)\n",
    "#show(mndwi)"
   ]
  },
  {
   "cell_type": "markdown",
   "id": "f877c0f5-b1d6-419a-9247-d4f4f1f0c8fe",
   "metadata": {},
   "source": [
    "#### Normalized Difference Moisture Index (NDMI)\n",
    "Formula: NDMI = (NIR-SWIR1)/(NIR+SWIR1)"
   ]
  },
  {
   "cell_type": "code",
   "execution_count": null,
   "id": "46491f1a-c9c5-4ccb-b3a4-dc3994751d40",
   "metadata": {},
   "outputs": [],
   "source": [
    "# Calculate NDMI\n",
    "\n",
    "# Run Formula \n",
    "ndmi = (nir - swir1) / (nir + swir1)\n",
    "\n",
    "# Explore\n",
    "#np.nanmax(ndmi)\n",
    "#show(ndmi)"
   ]
  },
  {
   "cell_type": "markdown",
   "id": "7a0ebade-85e1-4087-a318-df4524753a4b",
   "metadata": {
    "tags": []
   },
   "source": [
    "#### Automated Water Extraction Index (AWEI)\n",
    "Formulas: \n",
    "AWEInsh = 4(Green-SWIR1)-(.25NIR+2.75SWIR2) \n",
    "AWEIsh = blue + 2.5\n",
    "\n",
    "Description: \"AWEInsh is an index formulated to effectively eliminate nonwater pixels, including dark built surfaces in areas with urban background and AWEIsh is primarily formulated for further improvement of accuracy by removing shadow pixels that AWEInsh may not effectively eliminate. But in areas with highly reflective surfaces such as ice, snow and reflective roofs in urban areas, (aweish) may misclassify such surfaces as water.\"\n",
    "\n",
    "Source: https://www.sciencedirect.com/science/article/pii/S0034425713002873?ref=pdf_download&fr=RR-2&rr=79e31ae5efb2b0c9"
   ]
  },
  {
   "cell_type": "code",
   "execution_count": null,
   "id": "356d2fd8-a266-4b4a-8bc6-98d93b1a4693",
   "metadata": {
    "tags": []
   },
   "outputs": [],
   "source": [
    "# Calculate AWEI\n",
    "\n",
    "# Run Formula \n",
    "awei = (4*(green - swir1))-(.25*nir + 2.75*swir2)\n",
    "\n",
    "# Explore\n",
    "#np.nanmax(awei)\n",
    "#show(awei)"
   ]
  },
  {
   "cell_type": "markdown",
   "id": "9533ec10-d68d-4a63-9407-15466884f099",
   "metadata": {},
   "source": [
    "## Prepare DEM Data"
   ]
  },
  {
   "cell_type": "code",
   "execution_count": null,
   "id": "d9363a12-ba4f-44b5-95da-ff495648d4f5",
   "metadata": {},
   "outputs": [],
   "source": []
  },
  {
   "cell_type": "code",
   "execution_count": null,
   "id": "e81a2537-198c-4880-a9b6-63d4d60be93f",
   "metadata": {},
   "outputs": [],
   "source": []
  },
  {
   "cell_type": "markdown",
   "id": "9c7eeb29-fa52-4b9c-b562-f8583778f08c",
   "metadata": {},
   "source": [
    "# CLOSE EVERYTHING SO U DON'T GET HACKED"
   ]
  },
  {
   "cell_type": "code",
   "execution_count": 59,
   "id": "54944b46-afa9-4384-b2ea-1c8c308879a1",
   "metadata": {},
   "outputs": [
    {
     "ename": "NameError",
     "evalue": "name 's2' is not defined",
     "output_type": "error",
     "traceback": [
      "\u001b[1;31m---------------------------------------------------------------------------\u001b[0m",
      "\u001b[1;31mNameError\u001b[0m                                 Traceback (most recent call last)",
      "\u001b[1;32m~\\AppData\\Local\\Temp\\ipykernel_21344\\2019731148.py\u001b[0m in \u001b[0;36m<module>\u001b[1;34m\u001b[0m\n\u001b[0;32m      1\u001b[0m \u001b[0msrc\u001b[0m\u001b[1;33m.\u001b[0m\u001b[0mclose\u001b[0m\u001b[1;33m(\u001b[0m\u001b[1;33m)\u001b[0m\u001b[1;33m\u001b[0m\u001b[1;33m\u001b[0m\u001b[0m\n\u001b[1;32m----> 2\u001b[1;33m \u001b[0ms2\u001b[0m\u001b[1;33m.\u001b[0m\u001b[0mclose\u001b[0m\u001b[1;33m(\u001b[0m\u001b[1;33m)\u001b[0m\u001b[1;33m\u001b[0m\u001b[1;33m\u001b[0m\u001b[0m\n\u001b[0m\u001b[0;32m      3\u001b[0m \u001b[0mdem\u001b[0m\u001b[1;33m.\u001b[0m\u001b[0mclose\u001b[0m\u001b[1;33m(\u001b[0m\u001b[1;33m)\u001b[0m\u001b[1;33m\u001b[0m\u001b[1;33m\u001b[0m\u001b[0m\n",
      "\u001b[1;31mNameError\u001b[0m: name 's2' is not defined"
     ]
    }
   ],
   "source": [
    "src.close()\n",
    "s2.close()\n",
    "dem.close()"
   ]
  },
  {
   "cell_type": "code",
   "execution_count": null,
   "id": "95274fba-f5c1-427c-9d36-864d96754527",
   "metadata": {},
   "outputs": [],
   "source": []
  }
 ],
 "metadata": {
  "kernelspec": {
   "display_name": "Python 3 (ipykernel)",
   "language": "python",
   "name": "python3"
  },
  "language_info": {
   "codemirror_mode": {
    "name": "ipython",
    "version": 3
   },
   "file_extension": ".py",
   "mimetype": "text/x-python",
   "name": "python",
   "nbconvert_exporter": "python",
   "pygments_lexer": "ipython3",
   "version": "3.9.13"
  }
 },
 "nbformat": 4,
 "nbformat_minor": 5
}
